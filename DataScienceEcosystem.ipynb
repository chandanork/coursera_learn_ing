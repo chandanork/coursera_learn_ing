{
 "cells": [
  {
   "cell_type": "markdown",
   "id": "0060edaf-c586-47f7-9553-cf6ae03e3bf0",
   "metadata": {},
   "source": [
    "# Data Science Tools and Ecosystem"
   ]
  },
  {
   "cell_type": "markdown",
   "id": "ad715bdf-c342-44f7-ac5d-db8ab7c4534a",
   "metadata": {},
   "source": [
    "In this notebook, Data Science Tools and Ecosystem are summarized."
   ]
  },
  {
   "cell_type": "markdown",
   "id": "1fe9d456-3db8-4526-b193-912367eab3e2",
   "metadata": {},
   "source": [
    "**Objectives:**\n",
    "- List popular languages for Data Science.\n",
    "- List commonly used libraries used by Data Scientists.\n",
    "- Data Science Tools - development environment open source tools used in data science.\n",
    "-some example of arithmetic expressions in Python\n"
   ]
  },
  {
   "cell_type": "markdown",
   "id": "9735bea3-ccaf-479f-9425-710f874ed395",
   "metadata": {},
   "source": [
    "Some of the popular languages that Data Scientists use are:\n",
    "1. python\n",
    "2. java\n",
    "3. c++\n"
   ]
  },
  {
   "cell_type": "markdown",
   "id": "ca38787e-ad14-4cd8-ab1a-2f63b6c91c59",
   "metadata": {},
   "source": [
    "Some of the commonly used libraries used by Data Scientists include:\n",
    "1. NumPy\n",
    "2. pandas\n",
    "3. Matplotlib\n",
    "4. Scikit-learn\n",
    "5. TensorFlow\n",
    "6. Keras "
   ]
  },
  {
   "cell_type": "markdown",
   "id": "724f802d-c821-4362-a466-b93b7a02b65d",
   "metadata": {},
   "source": [
    "|**Data Science Tools**|\n",
    "--------------------\n",
    "|Jupyter Notebook|\n",
    "|VS code|\n",
    "|R-studio|\n",
    "\n",
    "\n"
   ]
  },
  {
   "cell_type": "markdown",
   "id": "2960ceeb-3e16-4963-abbc-dcde06f9a905",
   "metadata": {},
   "source": [
    "### Below are a few examples of evaluating arithmetic expressions in Python\n",
    "\n",
    "$ y = (a \\cdot b )+c$"
   ]
  },
  {
   "cell_type": "code",
   "execution_count": 1,
   "id": "ae77ce0a-375d-4ad2-8a58-341c475d50a2",
   "metadata": {},
   "outputs": [
    {
     "data": {
      "text/plain": [
       "17"
      ]
     },
     "execution_count": 1,
     "metadata": {},
     "output_type": "execute_result"
    }
   ],
   "source": [
    "# This a simple arithmetic expression to mutiply then add integers\n",
    "(3*4)+5"
   ]
  },
  {
   "cell_type": "code",
   "execution_count": 2,
   "id": "06583094-820e-4901-9748-ec461eb94abd",
   "metadata": {},
   "outputs": [
    {
     "data": {
      "text/plain": [
       "3.3333333333333335"
      ]
     },
     "execution_count": 2,
     "metadata": {},
     "output_type": "execute_result"
    }
   ],
   "source": [
    "# This will convert 200 minutes to hours by diving by 60\n",
    "200/60"
   ]
  },
  {
   "cell_type": "markdown",
   "id": "04521ed2-ab74-4c93-a857-fb33f34beb96",
   "metadata": {},
   "source": [
    "## Author \n",
    "_Chandan Kumar_"
   ]
  }
 ],
 "metadata": {
  "kernelspec": {
   "display_name": "Python 3 (ipykernel)",
   "language": "python",
   "name": "python3"
  },
  "language_info": {
   "codemirror_mode": {
    "name": "ipython",
    "version": 3
   },
   "file_extension": ".py",
   "mimetype": "text/x-python",
   "name": "python",
   "nbconvert_exporter": "python",
   "pygments_lexer": "ipython3",
   "version": "3.11.4"
  }
 },
 "nbformat": 4,
 "nbformat_minor": 5
}
